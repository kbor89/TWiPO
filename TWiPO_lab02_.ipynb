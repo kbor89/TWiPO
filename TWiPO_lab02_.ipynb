{
  "cells": [
    {
      "cell_type": "markdown",
      "metadata": {},
      "source": [
        "# Laboratorium 2: Algorytm Obiektów Połączonych (Connected Components)\n",
        "\n",
        "**Cel:** Samodzielna implementacja algorytmu wykrywania i zliczania obiektów na obrazie binarnym.\n",
        "\n",
        "---"
      ]
    },
    {
      "cell_type": "markdown",
      "metadata": {},
      "source": [
        "## Sekcja 1: Teoria\n",
        "\n",
        "### Obraz binarny\n",
        "\n",
        "**Obraz binarny** - obraz, na którym piksele mogą przyjmować tylko jedną z dwóch wartości (0 lub 1, czasami 0 lub 255).\n",
        "\n",
        "**Binaryzacja (progowanie)** - operacja przekształcająca obraz w skali szarości na obraz binarny:\n",
        "```\n",
        "P(x,y) = 1  gdy  I(x,y) >= prog\n",
        "P(x,y) = 0  gdy  I(x,y) < prog\n",
        "```\n",
        "\n",
        "### Sąsiedztwo pikseli\n",
        "\n",
        "**Sąsiedztwo 4-spójne (N4):**\n",
        "```\n",
        "      [G]      \n",
        "  [L] [*] [P]  \n",
        "      [D]      \n",
        "```\n",
        "Piksel [*] ma 4 sąsiadów: lewy (L), górny (G), prawy, dolny.\n",
        "\n",
        "**Sąsiedztwo 8-spójne (N8):**\n",
        "```\n",
        "  [LG][G][PG] \n",
        "  [L] [*] [P] \n",
        "  [LD][D][PD] \n",
        "```\n",
        "Piksel [*] ma 8 sąsiadów: 4 bezpośrednie + 4 po przekątnej.\n",
        "\n",
        "**W tym algorytmie używamy sąsiedztwa 4-spójnego.**\n",
        "\n",
        "---\n",
        "\n",
        "### Algorytm obiektów połączonych\n",
        "\n",
        "Służy do **wykrycia i zliczenia obiektów** na obrazie binarnym.\n",
        "\n",
        "#### Etap I: Etykietowanie wstępne\n",
        "\n",
        "1. Inicjalizuj licznik = 0\n",
        "2. Przeglądaj obraz **wiersz po wierszu, od lewej do prawej**\n",
        "3. Dla każdego piksela P(x,y) > 0:\n",
        "   - Jeśli piksel **z lewej** ma wartość > 0: `P(x,y) = P(x-1,y)`\n",
        "   - Jeśli nie, ale piksel **z góry** ma wartość > 0: `P(x,y) = P(x,y-1)`\n",
        "   - Jeśli nie: `P(x,y) = ++licznik` (nowa etykieta)\n",
        "\n",
        "```\n",
        "Kolejność sprawdzania (N4):\n",
        "     [góra]\n",
        "  [lewo][P]\n",
        "```\n",
        "\n",
        "#### Etap II: Tablica korelacji (podstawień)\n",
        "\n",
        "1. Utwórz tablicę COR[256], gdzie `COR[i] = i`\n",
        "2. Znajdź przyległe piksele o różnych etykietach:\n",
        "   - Sprawdź górnego sąsiada: jeśli `P(x,y) != P(x,y-1)` i oba > 0\n",
        "   - Porównaj `COR[P(x,y)]` z `COR[P(x,y-1)]`\n",
        "   - Jeśli `COR[P(x,y)] > COR[P(x,y-1)]`: `COR[P(x,y)] = COR[P(x,y-1)]`\n",
        "   - Jeśli `COR[P(x,y)] < COR[P(x,y-1)]`: `COR[P(x,y-1)] = COR[P(x,y)]`\n",
        "3. Zamień wartości pikseli zgodnie z tablicą COR: `P(x,y) = COR[P(x,y)]`\n",
        "\n",
        "**Dlaczego dwa warunki?** Tablica COR może być już zaktualizowana z poprzednich iteracji, więc sprawdzamy który reprezentant jest mniejszy i propagujemy mniejszą wartość.\n",
        "\n",
        "---\n",
        "\n",
        "### Przykład działania (sąsiedztwo 4-spójne)\n",
        "\n",
        "```\n",
        "Obraz binarny:        Po etapie I:         Po etapie II:\n",
        "  0 0 1 1 0              0 0 1 1 0            0 0 1 1 0\n",
        "  0 1 1 0 0              0 2 2 0 0            0 1 1 0 0\n",
        "  0 0 0 1 1              0 0 0 3 3            0 0 0 3 3\n",
        "  1 1 1 1 0              4 4 4 4 0            3 3 3 3 0\n",
        "```\n",
        "\n",
        "**Etap I - wyjaśnienie:**\n",
        "- Wiersz 0, kol 2: brak sąsiadów → etykieta 1\n",
        "- Wiersz 0, kol 3: lewy sąsiad = 1 → etykieta 1\n",
        "- Wiersz 1, kol 1: brak sąsiadów → etykieta 2\n",
        "- Wiersz 1, kol 2: górny sąsiad = 1 → etykieta 1\n",
        "- Wiersz 2, kol 3: brak sąsiadów → etykieta 3\n",
        "- Wiersz 3, kol 0: brak sąsiadów → etykieta 4\n",
        "- itd.\n",
        "\n",
        "**Etap II - tablica COR:**\n",
        "- Wiersz 1, kol 2: etykieta 1, górny = 1 (takie same, OK)\n",
        "- Wiersz 2, kol 3: etykieta 3, górny = 1 → COR[3] = 1 (konflikt!)\n",
        "- Wiersz 3, kol 1: etykieta 4, lewy = 4 (takie same, OK)\n",
        "- Wiersz 3, kol 3: etykieta 3, górny = 3 (takie same, OK)\n",
        "\n",
        "Finalna tablica COR: `[0, 1, 1, 3, 3, 5, 6, ...]`\n",
        "\n",
        "**Wynik:** 2 obiekt (etykiety 1,2 → 1; 3,4 → 3 )\n",
        "\n",
        "---"
      ]
    },
    {
      "cell_type": "markdown",
      "metadata": {},
      "source": [
        "## Sekcja 2: Kod startowy\n",
        "\n",
        "### Przypomnienie: pętle i instrukcje warunkowe w Pythonie"
      ]
    },
    {
      "cell_type": "code",
      "execution_count": 43,
      "metadata": {},
      "outputs": [
        {
          "name": "stdout",
          "output_type": "stream",
          "text": [
            "i = 0\n",
            "i = 1\n",
            "i = 2\n",
            "i = 3\n",
            "i = 4\n",
            "(0,0) (0,1) (0,2) (0,3) \n",
            "(1,0) (1,1) (1,2) (1,3) \n",
            "(2,0) (2,1) (2,2) (2,3) \n",
            "x > 0\n",
            "matrix[0][1] = 2\n"
          ]
        }
      ],
      "source": [
        "# Pętla for - iteracja po zakresie (podobnie jak w C/C++)\n",
        "for i in range(5):  # i = 0, 1, 2, 3, 4\n",
        "    print(f\"i = {i}\")\n",
        "\n",
        "# Pętla zagnieżdżona (jak w C: for(j=0; j<rows; j++) for(i=0; i<cols; i++))\n",
        "rows, cols = 3, 4\n",
        "for j in range(rows):\n",
        "    for i in range(cols):\n",
        "        print(f\"({j},{i})\", end=\" \")\n",
        "    print()  # nowa linia\n",
        "\n",
        "# Instrukcja warunkowa if-elif-else\n",
        "x = 5\n",
        "if x > 10:\n",
        "    print(\"x > 10\")\n",
        "elif x > 0:\n",
        "    print(\"x > 0\")\n",
        "else:\n",
        "    print(\"x <= 0\")\n",
        "\n",
        "# Dostęp do tablicy 2D (jak w C: matrix[j][i])\n",
        "import numpy as np\n",
        "matrix = np.array([[1, 2, 3], [4, 5, 6]])\n",
        "print(f\"matrix[0][1] = {matrix[0][1]}\")  # wiersz 0, kolumna 1 -> 2"
      ]
    },
    {
      "cell_type": "code",
      "execution_count": 44,
      "metadata": {},
      "outputs": [],
      "source": [
        "# Import bibliotek\n",
        "import numpy as np\n",
        "import matplotlib.pyplot as plt\n",
        "from PIL import Image"
      ]
    },
    {
      "cell_type": "markdown",
      "metadata": {},
      "source": [
        "### Funkcje pomocnicze"
      ]
    },
    {
      "cell_type": "code",
      "execution_count": 45,
      "metadata": {},
      "outputs": [],
      "source": [
        "def wczytaj_obraz(sciezka):\n",
        "    \"\"\"Wczytuje obraz z pliku.\"\"\"\n",
        "    img = Image.open(sciezka)\n",
        "    return np.array(img)\n",
        "\n",
        "def rgb_do_szarosci(obraz_rgb):\n",
        "    \"\"\"Konwersja RGB -> skala szarości.\"\"\"\n",
        "    if len(obraz_rgb.shape) == 2:  # już w skali szarości\n",
        "        return obraz_rgb\n",
        "    # Wzór: 0.299*R + 0.587*G + 0.114*B\n",
        "    return (0.299 * obraz_rgb[:,:,0] + \n",
        "            0.587 * obraz_rgb[:,:,1] + \n",
        "            0.114 * obraz_rgb[:,:,2]).astype(np.uint8)\n",
        "\n",
        "def binaryzacja(obraz_szary, prog=128):\n",
        "    \"\"\"Binaryzacja: piksel >= prog -> 1, reszta -> 0.\"\"\"\n",
        "    return (obraz_szary >= prog).astype(np.uint8)\n",
        "\n",
        "def wyswietl_obrazy(obrazy, tytuly, cmap_list=None):\n",
        "    \"\"\"Wyświetla wiele obrazów obok siebie.\"\"\"\n",
        "    n = len(obrazy)\n",
        "    fig, axes = plt.subplots(1, n, figsize=(5*n, 5))\n",
        "    if n == 1:\n",
        "        axes = [axes]\n",
        "    for i, (obraz, tytul) in enumerate(zip(obrazy, tytuly)):\n",
        "        cmap = cmap_list[i] if cmap_list else 'gray'\n",
        "        axes[i].imshow(obraz, cmap=cmap)\n",
        "        axes[i].set_title(tytul)\n",
        "        axes[i].axis('off')\n",
        "    plt.tight_layout()\n",
        "    plt.show()"
      ]
    },
    {
      "cell_type": "markdown",
      "metadata": {},
      "source": [
        "### Przykładowe obrazy testowe"
      ]
    },
    {
      "cell_type": "code",
      "execution_count": 46,
      "metadata": {},
      "outputs": [
        {
          "data": {
            "image/png": "[encoded data removed]",
            "text/plain": [
              "<Figure size 2500x500 with 5 Axes>"
            ]
          },
          "metadata": {},
          "output_type": "display_data"
        }
      ],
      "source": [
        "# Test 1: Dwa oddzielne prostokąty\n",
        "test1 = np.zeros((10, 15), dtype=np.uint8)\n",
        "test1[2:5, 2:6] = 1    # prostokąt 1\n",
        "test1[6:9, 8:13] = 1   # prostokąt 2\n",
        "\n",
        "# Test 2: Kształt L (jeden obiekt)\n",
        "test2 = np.zeros((10, 10), dtype=np.uint8)\n",
        "test2[2:8, 2:4] = 1    # pionowa część\n",
        "test2[6:8, 2:7] = 1    # pozioma część\n",
        "\n",
        "# Test 3: Dwa obiekty z \"mostem\" (konflikt etykiet)\n",
        "test3 = np.zeros((8, 10), dtype=np.uint8)\n",
        "test3[1:3, 1:4] = 1    # lewy górny\n",
        "test3[2, 3:6] = 1      # most łączący\n",
        "test3[2:5, 5:8] = 1    # prawy dolny\n",
        "\n",
        "# Test 4: Z instrukcji (przykład z PDF)\n",
        "test4 = np.array([\n",
        "    [0, 0, 1, 1, 0, 0, 0, 0],\n",
        "    [0, 1, 1, 0, 0, 1, 1, 0],\n",
        "    [0, 0, 0, 0, 1, 1, 0, 0],\n",
        "    [1, 1, 0, 0, 1, 0, 0, 0],\n",
        "    [0, 0, 0, 0, 0, 0, 1, 1],\n",
        "    [0, 0, 0, 0, 0, 0, 1, 0],\n",
        "], dtype=np.uint8)\n",
        "\n",
        "# Test 5: Mały przykład do ręcznej weryfikacji\n",
        "test5 = np.array([\n",
        "    [0, 0, 1, 1, 0],\n",
        "    [0, 1, 1, 0, 0],\n",
        "    [0, 0, 0, 1, 1],\n",
        "    [1, 1, 0, 1, 0],\n",
        "], dtype=np.uint8)\n",
        "\n",
        "# Wyświetlenie\n",
        "wyswietl_obrazy([test1, test2, test3, test4, test5], \n",
        "                ['Test 1', 'Test 2', 'Test 3', 'Test 4 (PDF)', 'Test 5'])"
      ]
    },
    {
      "cell_type": "markdown",
      "metadata": {},
      "source": [
        "---\n",
        "## Sekcja 3: Zadania do implementacji\n",
        "\n",
        "### Zadanie 3.1: Etap I - Etykietowanie wstępne\n",
        "\n",
        "Zaimplementuj pierwszy przebieg algorytmu zgodnie z instrukcją."
      ]
    },
    {
      "cell_type": "code",
      "execution_count": 47,
      "metadata": {},
      "outputs": [],
      "source": [
        "def etap1_etykietowanie(obraz_binarny):\n",
        "    \"\"\"\n",
        "    Etap I: Etykietowanie wstępne (sąsiedztwo 4-spójne).\n",
        "    \n",
        "    Algorytm:\n",
        "    - Dla każdego piksela > 0:\n",
        "      1. Jeśli lewy sąsiad > 0: przepisz jego etykietę\n",
        "      2. Jeśli nie, ale górny sąsiad > 0: przepisz jego etykietę\n",
        "      3. Jeśli nie: przypisz nową etykietę (++licznik)\n",
        "    \n",
        "    Args:\n",
        "        obraz_binarny: tablica 2D z wartościami 0 lub 1\n",
        "    \n",
        "    Returns:\n",
        "        etykiety: tablica 2D z etykietami (0 = tło)\n",
        "    \"\"\"\n",
        "    rows, cols = obraz_binarny.shape\n",
        "    etykiety = np.zeros((rows, cols), dtype=np.int32)\n",
        "    \n",
        "    # TODO: Inicjalizuj licznik\n",
        "    licznik = 0\n",
        "    \n",
        "    # TODO: Pętla po wszystkich pikselach (j - wiersze, i - kolumny)\n",
        "    for j in range(rows):\n",
        "        for i in range(cols):\n",
        "            \n",
        "            # TODO: Sprawdź czy piksel jest obiektem (> 0)\n",
        "            if obraz_binarny[j][i] > 0:\n",
        "                \n",
        "                # TODO: Sprawdź lewego sąsiada (i-1)\n",
        "                if i > 0 and etykiety[j][i-1] > 0:\n",
        "                    etykiety[j][i] = etykiety[j][i-1]\n",
        "                \n",
        "                # TODO: Jeśli nie, sprawdź górnego sąsiada (j-1)\n",
        "                elif j > 0 and etykiety[j-1][i] > 0:\n",
        "                    etykiety[j][i] = etykiety[j-1][i]\n",
        "                \n",
        "                # TODO: Jeśli nie, przypisz nową etykietę\n",
        "                else:\n",
        "                    licznik += 1\n",
        "                    etykiety[j][i] = licznik\n",
        "    \n",
        "    return etykiety"
      ]
    },
    {
      "cell_type": "markdown",
      "metadata": {},
      "source": [
        "#### Test Zadania 3.1"
      ]
    },
    {
      "cell_type": "code",
      "execution_count": 48,
      "metadata": {},
      "outputs": [
        {
          "name": "stdout",
          "output_type": "stream",
          "text": [
            "=== TEST ETAPU I ===\n",
            "\n",
            "Test na małym przykładzie (test5):\n",
            "Obraz binarny:\n",
            "[[0 0 1 1 0]\n",
            " [0 1 1 0 0]\n",
            " [0 0 0 1 1]\n",
            " [1 1 0 1 0]]\n",
            "\n",
            "Etykiety po etapie I:\n",
            "[[0 0 1 1 0]\n",
            " [0 2 2 0 0]\n",
            " [0 0 0 3 3]\n",
            " [4 4 0 3 0]]\n",
            "\n",
            "Obserwacja: Mogą wystąpić różne etykiety dla tego samego obiektu.\n",
            "To jest normalne - etap II to naprawi.\n",
            "\n"
          ]
        },
        {
          "data": {
            "image/png": "[encoded data removed]",
            "text/plain": [
              "<Figure size 1000x500 with 2 Axes>"
            ]
          },
          "metadata": {},
          "output_type": "display_data"
        }
      ],
      "source": [
        "print(\"=== TEST ETAPU I ===\")\n",
        "print(\"\\nTest na małym przykładzie (test5):\")\n",
        "print(\"Obraz binarny:\")\n",
        "print(test5)\n",
        "\n",
        "etykiety_etap1 = etap1_etykietowanie(test5)\n",
        "print(\"\\nEtykiety po etapie I:\")\n",
        "print(etykiety_etap1)\n",
        "print(\"\\nObserwacja: Mogą wystąpić różne etykiety dla tego samego obiektu.\")\n",
        "print(\"To jest normalne - etap II to naprawi.\\n\")\n",
        "\n",
        "# Wizualizacja\n",
        "wyswietl_obrazy([test5, etykiety_etap1], \n",
        "                ['Obraz binarny', 'Etykiety po etapie I'],\n",
        "                ['gray', 'nipy_spectral'])"
      ]
    },
    {
      "cell_type": "markdown",
      "metadata": {},
      "source": [
        "### Zadanie 3.2: Etap II - Tablica korelacji (podstawień)\n",
        "\n",
        "Zaimplementuj drugi przebieg z tablicą COR.\n",
        "\n",
        "**Ważne:** Sprawdzamy dwa warunki:\n",
        "- Jeśli `COR[aktualna] > COR[górna]`: `COR[aktualna] = COR[górna]`\n",
        "- Jeśli `COR[aktualna] < COR[górna]`: `COR[górna] = COR[aktualna]`\n",
        "\n",
        "Dzięki temu propagujemy najmniejszą etykietę w obu kierunkach."
      ]
    },
    {
      "cell_type": "code",
      "execution_count": 51,
      "metadata": {},
      "outputs": [],
      "source": [
        "def etap2_tablica_korelacji(etykiety):\n",
        "    \"\"\"\n",
        "    Etap II: Tablica korelacji (podstawień).\n",
        "    \n",
        "    Algorytm:\n",
        "    1. Utwórz tablicę COR[256], gdzie COR[i] = i\n",
        "    2. Znajdź przyległe piksele o różnych etykietach\n",
        "    3. Porównaj COR[aktualna] z COR[górna] i zapisz mniejszą\n",
        "    4. Zamień etykiety zgodnie z tablicą COR\n",
        "    \n",
        "    Args:\n",
        "        etykiety: tablica 2D z etykietami z etapu I\n",
        "    \n",
        "    Returns:\n",
        "        etykiety_finalne: tablica 2D z ostatecznymi etykietami\n",
        "    \"\"\"\n",
        "    rows, cols = etykiety.shape\n",
        "    \n",
        "    # TODO: Utwórz tablicę korelacji COR[256]\n",
        "    COR = np.arange(256, dtype=np.int32)\n",
        "    \n",
        "    # TODO: Szukanie różnic między sąsiadami\n",
        "    # Sprawdzamy górnego sąsiada dla każdego piksela\n",
        "    \n",
        "    for j in range(rows):\n",
        "        for i in range(cols):\n",
        "            \n",
        "            # TODO: Sprawdź górnego sąsiada\n",
        "            if j > 0:\n",
        "                etykieta_aktualna = etykiety[j][i]\n",
        "                etykieta_gorna = etykiety[j-1][i]\n",
        "                \n",
        "                # TODO: Jeśli oba > 0 i różne\n",
        "                if etykieta_aktualna > 0 and etykieta_gorna > 0:\n",
        "                    \n",
        "                    # TODO: Porównaj COR[aktualna] z COR[gorna]\n",
        "                    # Warunek 1: jeśli COR[aktualna] > COR[gorna]\n",
        "                    if COR[etykieta_aktualna] > COR[etykieta_gorna]:\n",
        "                        COR[etykieta_aktualna] = COR[etykieta_gorna]\n",
        "                    \n",
        "                    # TODO: Warunek 2: jeśli COR[aktualna] < COR[gorna]\n",
        "                    elif COR[etykieta_aktualna] < COR[etykieta_gorna]:\n",
        "                        COR[etykieta_gorna] = COR[etykieta_aktualna]\n",
        "    \n",
        "    # TODO: Zastosuj tablicę podstawień do całego obrazu\n",
        "    etykiety_finalne = np.zeros_like(etykiety)\n",
        "    \n",
        "    for j in range(rows):\n",
        "        for i in range(cols):\n",
        "            # TODO: Zamień etykietę zgodnie z tablicą COR\n",
        "            etykiety_finalne[j][i] = COR[etykiety[j][i]]\n",
        "    \n",
        "    return etykiety_finalne"
      ]
    },
    {
      "cell_type": "markdown",
      "metadata": {},
      "source": [
        "#### Test Zadania 3.2"
      ]
    },
    {
      "cell_type": "code",
      "execution_count": 52,
      "metadata": {},
      "outputs": [
        {
          "name": "stdout",
          "output_type": "stream",
          "text": [
            "=== TEST ETAPU II ===\n",
            "\n",
            "Test na małym przykładzie (test5):\n",
            "Etykiety po etapie I:\n",
            "[[0 0 1 1 0]\n",
            " [0 2 2 0 0]\n",
            " [0 0 0 3 3]\n",
            " [4 4 0 3 0]]\n",
            "\n",
            "Etykiety po etapie II:\n",
            "[[0 0 1 1 0]\n",
            " [0 1 1 0 0]\n",
            " [0 0 0 3 3]\n",
            " [4 4 0 3 0]]\n",
            "\n",
            "Obserwacja: Wszystkie piksele tego samego obiektu mają teraz tę samą etykietę.\n",
            "\n"
          ]
        },
        {
          "data": {
            "image/png": "[encoded data removed]",
            "text/plain": [
              "<Figure size 1500x500 with 3 Axes>"
            ]
          },
          "metadata": {},
          "output_type": "display_data"
        }
      ],
      "source": [
        "print(\"=== TEST ETAPU II ===\")\n",
        "print(\"\\nTest na małym przykładzie (test5):\")\n",
        "print(\"Etykiety po etapie I:\")\n",
        "print(etykiety_etap1)\n",
        "\n",
        "etykiety_etap2 = etap2_tablica_korelacji(etykiety_etap1)\n",
        "print(\"\\nEtykiety po etapie II:\")\n",
        "print(etykiety_etap2)\n",
        "print(\"\\nObserwacja: Wszystkie piksele tego samego obiektu mają teraz tę samą etykietę.\\n\")\n",
        "\n",
        "# Wizualizacja\n",
        "wyswietl_obrazy([test5, etykiety_etap1, etykiety_etap2], \n",
        "                ['Obraz binarny', 'Po etapie I', 'Po etapie II'],\n",
        "                ['gray', 'nipy_spectral', 'nipy_spectral'])"
      ]
    },
    {
      "cell_type": "markdown",
      "metadata": {},
      "source": [
        "### Zadanie 3.3: Renumeracja etykiet\n",
        "\n",
        "Zamień etykiety na kolejne liczby 1, 2, 3, ... (dla czytelności)."
      ]
    },
    {
      "cell_type": "code",
      "execution_count": 53,
      "metadata": {},
      "outputs": [],
      "source": [
        "def renumeruj_etykiety(etykiety):\n",
        "    \"\"\"\n",
        "    Renumeracja etykiet na 1, 2, 3, ...\n",
        "    \n",
        "    Args:\n",
        "        etykiety: tablica 2D z etykietami\n",
        "    \n",
        "    Returns:\n",
        "        etykiety_nowe: tablica z renumerowanymi etykietami\n",
        "        liczba_obiektow: liczba znalezionych obiektów\n",
        "    \"\"\"\n",
        "    # TODO: Znajdź unikalne etykiety (bez 0)\n",
        "    unikalne = np.unique(etykiety)\n",
        "    unikalne = unikalne[unikalne > 0]\n",
        "    \n",
        "    # TODO: Utwórz mapowanie: stara_etykieta -> nowa_etykieta (1, 2, 3, ...)\n",
        "    mapowanie = {stara: nowa for nowa, stara in enumerate(unikalne, start=1)}\n",
        "    \n",
        "    # TODO: Zastosuj mapowanie\n",
        "    etykiety_nowe = np.zeros_like(etykiety)\n",
        "    for stara, nowa in mapowanie.items():\n",
        "        etykiety_nowe[etykiety == stara] = nowa\n",
        "    \n",
        "    return etykiety_nowe, len(unikalne)"
      ]
    },
    {
      "cell_type": "markdown",
      "metadata": {},
      "source": [
        "#### Test Zadania 3.3"
      ]
    },
    {
      "cell_type": "code",
      "execution_count": 54,
      "metadata": {},
      "outputs": [
        {
          "name": "stdout",
          "output_type": "stream",
          "text": [
            "=== TEST RENUMERACJI ===\n",
            "\n",
            "Test na małym przykładzie (test5):\n",
            "Etykiety po etapie II:\n",
            "[[0 0 1 1 0]\n",
            " [0 1 1 0 0]\n",
            " [0 0 0 3 3]\n",
            " [4 4 0 3 0]]\n",
            "\n",
            "Etykiety po renumeracji:\n",
            "[[0 0 1 1 0]\n",
            " [0 1 1 0 0]\n",
            " [0 0 0 2 2]\n",
            " [3 3 0 2 0]]\n",
            "\n",
            "Liczba obiektów: 3\n",
            "Oczekiwany wynik: 1 obiekt (wszystkie piksele połączone)\n",
            "\n"
          ]
        },
        {
          "data": {
            "image/png": "[encoded data removed]",
            "text/plain": [
              "<Figure size 1500x500 with 3 Axes>"
            ]
          },
          "metadata": {},
          "output_type": "display_data"
        }
      ],
      "source": [
        "print(\"=== TEST RENUMERACJI ===\")\n",
        "print(\"\\nTest na małym przykładzie (test5):\")\n",
        "print(\"Etykiety po etapie II:\")\n",
        "print(etykiety_etap2)\n",
        "\n",
        "etykiety_final, liczba = renumeruj_etykiety(etykiety_etap2)\n",
        "print(\"\\nEtykiety po renumeracji:\")\n",
        "print(etykiety_final)\n",
        "print(f\"\\nLiczba obiektów: {liczba}\")\n",
        "print(\"Oczekiwany wynik: 1 obiekt (wszystkie piksele połączone)\\n\")\n",
        "\n",
        "# Wizualizacja\n",
        "wyswietl_obrazy([test5, etykiety_etap2, etykiety_final], \n",
        "                ['Obraz binarny', 'Przed renumeracją', 'Po renumeracji'],\n",
        "                ['gray', 'nipy_spectral', 'nipy_spectral'])"
      ]
    },
    {
      "cell_type": "markdown",
      "metadata": {},
      "source": [
        "### Zadanie 3.4: Funkcja główna\n",
        "\n",
        "Połącz wszystkie etapy w jedną funkcję."
      ]
    },
    {
      "cell_type": "code",
      "execution_count": 55,
      "metadata": {},
      "outputs": [],
      "source": [
        "def connected_components(obraz_binarny):\n",
        "    \"\"\"\n",
        "    Algorytm obiektów połączonych (Connected Components Labeling).\n",
        "    \n",
        "    Args:\n",
        "        obraz_binarny: tablica 2D z wartościami 0 lub 1\n",
        "    \n",
        "    Returns:\n",
        "        etykiety: tablica 2D z etykietami obiektów\n",
        "        liczba_obiektow: liczba znalezionych obiektów\n",
        "    \"\"\"\n",
        "    # TODO: Wywołaj etap 1\n",
        "    etykiety_tmp = etap1_etykietowanie(obraz_binarny)\n",
        "    \n",
        "    # TODO: Wywołaj etap 2\n",
        "    etykiety_final = etap2_tablica_korelacji(etykiety_tmp)\n",
        "    \n",
        "    # TODO: Renumeruj etykiety\n",
        "    etykiety, liczba = renumeruj_etykiety(etykiety_final)\n",
        "    \n",
        "    return etykiety, liczba"
      ]
    },
    {
      "cell_type": "markdown",
      "metadata": {},
      "source": [
        "#### Test Zadania 3.4"
      ]
    },
    {
      "cell_type": "code",
      "execution_count": 56,
      "metadata": {},
      "outputs": [
        {
          "name": "stdout",
          "output_type": "stream",
          "text": [
            "=== TEST FUNKCJI GŁÓWNEJ ===\n",
            "\n",
            "Test 1: Dwa oddzielne prostokąty\n",
            "Znaleziono 2 obiektów (oczekiwane: 2)\n",
            "\n",
            "Test 2: Kształt L\n",
            "Znaleziono 1 obiektów (oczekiwane: 1)\n",
            "\n",
            "Test 3: Obiekt z mostem\n",
            "Znaleziono 1 obiektów (oczekiwane: 1)\n",
            "\n"
          ]
        },
        {
          "data": {
            "image/png": "[encoded data removed]",
            "text/plain": [
              "<Figure size 3000x500 with 6 Axes>"
            ]
          },
          "metadata": {},
          "output_type": "display_data"
        }
      ],
      "source": [
        "print(\"=== TEST FUNKCJI GŁÓWNEJ ===\")\n",
        "print(\"\\nTest 1: Dwa oddzielne prostokąty\")\n",
        "etykiety_t1, liczba_t1 = connected_components(test1)\n",
        "print(f\"Znaleziono {liczba_t1} obiektów (oczekiwane: 2)\\n\")\n",
        "\n",
        "print(\"Test 2: Kształt L\")\n",
        "etykiety_t2, liczba_t2 = connected_components(test2)\n",
        "print(f\"Znaleziono {liczba_t2} obiektów (oczekiwane: 1)\\n\")\n",
        "\n",
        "print(\"Test 3: Obiekt z mostem\")\n",
        "etykiety_t3, liczba_t3 = connected_components(test3)\n",
        "print(f\"Znaleziono {liczba_t3} obiektów (oczekiwane: 1)\\n\")\n",
        "\n",
        "# Wizualizacja\n",
        "wyswietl_obrazy([test1, etykiety_t1, test2, etykiety_t2, test3, etykiety_t3], \n",
        "                ['Test 1', 'Etykiety 1', 'Test 2', 'Etykiety 2', 'Test 3', 'Etykiety 3'],\n",
        "                ['gray', 'nipy_spectral', 'gray', 'nipy_spectral', 'gray', 'nipy_spectral'])"
      ]
    },
    {
      "cell_type": "markdown",
      "metadata": {},
      "source": [
        "### Zadanie 3.5 (opcjonalne): Wizualizacja kolorowa"
      ]
    },
    {
      "cell_type": "code",
      "execution_count": 57,
      "metadata": {},
      "outputs": [],
      "source": [
        "def wizualizuj_obiekty(etykiety, liczba_obiektow):\n",
        "    \"\"\"\n",
        "    Kolorowa wizualizacja obiektów.\n",
        "    \n",
        "    Args:\n",
        "        etykiety: tablica 2D z etykietami\n",
        "        liczba_obiektow: liczba obiektów\n",
        "    \n",
        "    Returns:\n",
        "        obraz_rgb: tablica 3D (RGB)\n",
        "    \"\"\"\n",
        "    rows, cols = etykiety.shape\n",
        "    obraz_rgb = np.zeros((rows, cols, 3), dtype=np.uint8)\n",
        "    \n",
        "    # TODO: Wygeneruj losowe kolory dla każdego obiektu\n",
        "    np.random.seed(42)\n",
        "    kolory = np.random.randint(50, 255, size=(liczba_obiektow + 1, 3), dtype=np.uint8)\n",
        "    kolory[0] = [0, 0, 0]  # tło = czarne\n",
        "    \n",
        "    # TODO: Przypisz kolory\n",
        "    for j in range(rows):\n",
        "        for i in range(cols):\n",
        "            obraz_rgb[j][i] = kolory[etykiety[j][i]]\n",
        "    \n",
        "    return obraz_rgb"
      ]
    },
    {
      "cell_type": "markdown",
      "metadata": {},
      "source": [
        "#### Test Zadania 3.5"
      ]
    },
    {
      "cell_type": "code",
      "execution_count": 58,
      "metadata": {},
      "outputs": [
        {
          "name": "stdout",
          "output_type": "stream",
          "text": [
            "=== TEST WIZUALIZACJI KOLOROWEJ ===\n",
            "Test 4 (PDF): Znaleziono 4 obiektów\n",
            "\n"
          ]
        },
        {
          "data": {
            "image/png": "[encoded data removed]",
            "text/plain": [
              "<Figure size 2000x500 with 4 Axes>"
            ]
          },
          "metadata": {},
          "output_type": "display_data"
        }
      ],
      "source": [
        "print(\"=== TEST WIZUALIZACJI KOLOROWEJ ===\")\n",
        "\n",
        "# Test na przykładzie z PDF\n",
        "etykiety_t4, liczba_t4 = connected_components(test4)\n",
        "print(f\"Test 4 (PDF): Znaleziono {liczba_t4} obiektów\\n\")\n",
        "\n",
        "obraz_kol_t4 = wizualizuj_obiekty(etykiety_t4, liczba_t4)\n",
        "\n",
        "# Wizualizacja wszystkich testów\n",
        "obraz_kol_t1 = wizualizuj_obiekty(etykiety_t1, liczba_t1)\n",
        "obraz_kol_t2 = wizualizuj_obiekty(etykiety_t2, liczba_t2)\n",
        "obraz_kol_t3 = wizualizuj_obiekty(etykiety_t3, liczba_t3)\n",
        "\n",
        "wyswietl_obrazy([obraz_kol_t1, obraz_kol_t2, obraz_kol_t3, obraz_kol_t4], \n",
        "                [f'Test 1 ({liczba_t1} obj)', f'Test 2 ({liczba_t2} obj)', \n",
        "                 f'Test 3 ({liczba_t3} obj)', f'Test 4 ({liczba_t4} obj)'])"
      ]
    },
    {
      "cell_type": "markdown",
      "metadata": {},
      "source": [
        "---\n",
        "## Sekcja 4: Testy finalne\n",
        "\n",
        "### Test kompleksowy: Przykład z instrukcji"
      ]
    },
    {
      "cell_type": "code",
      "execution_count": 59,
      "metadata": {},
      "outputs": [
        {
          "name": "stdout",
          "output_type": "stream",
          "text": [
            "=== TEST KOMPLEKSOWY: Przykład z PDF ===\n",
            "\n",
            "Obraz binarny:\n",
            "[[0 0 1 1 0 0 0 0]\n",
            " [0 1 1 0 0 1 1 0]\n",
            " [0 0 0 0 1 1 0 0]\n",
            " [1 1 0 0 1 0 0 0]\n",
            " [0 0 0 0 0 0 1 1]\n",
            " [0 0 0 0 0 0 1 0]]\n",
            "\n",
            "Etykiety po etapie I:\n",
            "[[0 0 1 1 0 0 0 0]\n",
            " [0 2 2 0 0 3 3 0]\n",
            " [0 0 0 0 4 4 0 0]\n",
            " [5 5 0 0 4 0 0 0]\n",
            " [0 0 0 0 0 0 6 6]\n",
            " [0 0 0 0 0 0 6 0]]\n",
            "\n",
            "Etykiety po etapie II:\n",
            "[[0 0 1 1 0 0 0 0]\n",
            " [0 1 1 0 0 3 3 0]\n",
            " [0 0 0 0 3 3 0 0]\n",
            " [5 5 0 0 3 0 0 0]\n",
            " [0 0 0 0 0 0 6 6]\n",
            " [0 0 0 0 0 0 6 0]]\n",
            "\n",
            "Etykiety finalne:\n",
            "[[0 0 1 1 0 0 0 0]\n",
            " [0 1 1 0 0 2 2 0]\n",
            " [0 0 0 0 2 2 0 0]\n",
            " [3 3 0 0 2 0 0 0]\n",
            " [0 0 0 0 0 0 4 4]\n",
            " [0 0 0 0 0 0 4 0]]\n",
            "\n",
            "Liczba obiektów: 4\n",
            "\n"
          ]
        },
        {
          "data": {
            "image/png": "[encoded data removed]",
            "text/plain": [
              "<Figure size 2500x500 with 5 Axes>"
            ]
          },
          "metadata": {},
          "output_type": "display_data"
        }
      ],
      "source": [
        "print(\"=== TEST KOMPLEKSOWY: Przykład z PDF ===\")\n",
        "print(\"\\nObraz binarny:\")\n",
        "print(test4)\n",
        "\n",
        "# Etap I\n",
        "etykiety_pdf_etap1 = etap1_etykietowanie(test4)\n",
        "print(\"\\nEtykiety po etapie I:\")\n",
        "print(etykiety_pdf_etap1)\n",
        "\n",
        "# Etap II\n",
        "etykiety_pdf_etap2 = etap2_tablica_korelacji(etykiety_pdf_etap1)\n",
        "print(\"\\nEtykiety po etapie II:\")\n",
        "print(etykiety_pdf_etap2)\n",
        "\n",
        "# Renumeracja\n",
        "etykiety_pdf_final, liczba_pdf = renumeruj_etykiety(etykiety_pdf_etap2)\n",
        "print(\"\\nEtykiety finalne:\")\n",
        "print(etykiety_pdf_final)\n",
        "print(f\"\\nLiczba obiektów: {liczba_pdf}\\n\")\n",
        "\n",
        "# Wizualizacja krok po kroku\n",
        "obraz_kol_pdf = wizualizuj_obiekty(etykiety_pdf_final, liczba_pdf)\n",
        "wyswietl_obrazy([test4, etykiety_pdf_etap1, etykiety_pdf_etap2, etykiety_pdf_final, obraz_kol_pdf], \n",
        "                ['Binarny', 'Etap I', 'Etap II', 'Renumeracja', 'Wizualizacja'],\n",
        "                ['gray', 'nipy_spectral', 'nipy_spectral', 'nipy_spectral', None])"
      ]
    },
    {
      "cell_type": "markdown",
      "metadata": {},
      "source": [
        "### Test: Własny obraz\n",
        "\n",
        "Wczytaj własny obraz, zbinaryzuj i znajdź obiekty."
      ]
    },
    {
      "cell_type": "code",
      "execution_count": 37,
      "metadata": {},
      "outputs": [],
      "source": [
        "# Przykład użycia z własnym obrazem (odkomentuj i podaj ścieżkę)\n",
        "\n",
        "# obraz = wczytaj_obraz('sciezka/do/obrazu.jpg')\n",
        "# obraz_szary = rgb_do_szarosci(obraz)\n",
        "# obraz_binarny = binaryzacja(obraz_szary, prog=128)\n",
        "# etykiety, liczba = connected_components(obraz_binarny)\n",
        "# print(f\"Znaleziono {liczba} obiektów\")\n",
        "\n",
        "# obraz_wynik = wizualizuj_obiekty(etykiety, liczba)\n",
        "# wyswietl_obrazy([obraz, obraz_binarny, obraz_wynik], \n",
        "#                 ['Oryginał', 'Binarny', f'Obiekty ({liczba})'],\n",
        "#                 [None, 'gray', None])"
      ]
    },
    {
      "cell_type": "markdown",
      "metadata": {},
      "source": [
        "### Test: Porównanie wszystkich przykładów"
      ]
    },
    {
      "cell_type": "code",
      "execution_count": 60,
      "metadata": {},
      "outputs": [
        {
          "name": "stdout",
          "output_type": "stream",
          "text": [
            "=== PODSUMOWANIE WSZYSTKICH TESTÓW ===\n",
            "Test 1 (dwa prostokąty):     2 obiektów (oczekiwane: 2)\n",
            "Test 2 (kształt L):          1 obiektów (oczekiwane: 1)\n",
            "Test 3 (most):               1 obiektów (oczekiwane: 1)\n",
            "Test 4 (PDF):                4 obiektów\n",
            "Test 5 (mały przykład):      3 obiektów (oczekiwane: 1)\n"
          ]
        },
        {
          "data": {
            "image/png": "[encoded data removed]",
            "text/plain": [
              "<Figure size 2000x800 with 10 Axes>"
            ]
          },
          "metadata": {},
          "output_type": "display_data"
        }
      ],
      "source": [
        "print(\"=== PODSUMOWANIE WSZYSTKICH TESTÓW ===\")\n",
        "print(f\"Test 1 (dwa prostokąty):     {liczba_t1} obiektów (oczekiwane: 2)\")\n",
        "print(f\"Test 2 (kształt L):          {liczba_t2} obiektów (oczekiwane: 1)\")\n",
        "print(f\"Test 3 (most):               {liczba_t3} obiektów (oczekiwane: 1)\")\n",
        "print(f\"Test 4 (PDF):                {liczba_pdf} obiektów\")\n",
        "print(f\"Test 5 (mały przykład):      {liczba} obiektów (oczekiwane: 1)\")\n",
        "\n",
        "# Wizualizacja wszystkich wyników\n",
        "fig, axes = plt.subplots(2, 5, figsize=(20, 8))\n",
        "\n",
        "# Wiersz 1: obrazy binarne\n",
        "axes[0,0].imshow(test1, cmap='gray')\n",
        "axes[0,0].set_title('Test 1: Binarny')\n",
        "axes[0,0].axis('off')\n",
        "\n",
        "axes[0,1].imshow(test2, cmap='gray')\n",
        "axes[0,1].set_title('Test 2: Binarny')\n",
        "axes[0,1].axis('off')\n",
        "\n",
        "axes[0,2].imshow(test3, cmap='gray')\n",
        "axes[0,2].set_title('Test 3: Binarny')\n",
        "axes[0,2].axis('off')\n",
        "\n",
        "axes[0,3].imshow(test4, cmap='gray')\n",
        "axes[0,3].set_title('Test 4: Binarny')\n",
        "axes[0,3].axis('off')\n",
        "\n",
        "axes[0,4].imshow(test5, cmap='gray')\n",
        "axes[0,4].set_title('Test 5: Binarny')\n",
        "axes[0,4].axis('off')\n",
        "\n",
        "# Wiersz 2: wyniki\n",
        "axes[1,0].imshow(obraz_kol_t1)\n",
        "axes[1,0].set_title(f'Wynik: {liczba_t1} obj')\n",
        "axes[1,0].axis('off')\n",
        "\n",
        "axes[1,1].imshow(obraz_kol_t2)\n",
        "axes[1,1].set_title(f'Wynik: {liczba_t2} obj')\n",
        "axes[1,1].axis('off')\n",
        "\n",
        "axes[1,2].imshow(obraz_kol_t3)\n",
        "axes[1,2].set_title(f'Wynik: {liczba_t3} obj')\n",
        "axes[1,2].axis('off')\n",
        "\n",
        "axes[1,3].imshow(obraz_kol_pdf)\n",
        "axes[1,3].set_title(f'Wynik: {liczba_pdf} obj')\n",
        "axes[1,3].axis('off')\n",
        "\n",
        "obraz_kol_t5 = wizualizuj_obiekty(etykiety_final, liczba)\n",
        "axes[1,4].imshow(obraz_kol_t5)\n",
        "axes[1,4].set_title(f'Wynik: {liczba} obj')\n",
        "axes[1,4].axis('off')\n",
        "\n",
        "plt.tight_layout()\n",
        "plt.show()"
      ]
    },
    {
      "cell_type": "markdown",
      "metadata": {},
      "source": [
        "---\n",
        "## Zadania dodatkowe (dla chętnych)\n",
        "\n",
        "### 1. Statystyki obiektów"
      ]
    },
    {
      "cell_type": "code",
      "execution_count": 61,
      "metadata": {},
      "outputs": [
        {
          "name": "stdout",
          "output_type": "stream",
          "text": [
            "Statystyki dla Test 1:\n",
            "  Obiekt 1: 12 pikseli\n",
            "  Obiekt 2: 15 pikseli\n"
          ]
        }
      ],
      "source": [
        "def statystyki_obiektow(etykiety, liczba_obiektow):\n",
        "    \"\"\"Oblicza pole powierzchni każdego obiektu.\"\"\"\n",
        "    # TODO: Dla każdej etykiety 1..liczba_obiektow policz piksele\n",
        "    statystyki = {}\n",
        "    for obj in range(1, liczba_obiektow + 1):\n",
        "        pole = np.sum(etykiety == obj)\n",
        "        statystyki[obj] = pole\n",
        "    return statystyki\n",
        "\n",
        "# Test\n",
        "stats = statystyki_obiektow(etykiety_t1, liczba_t1)\n",
        "print(\"Statystyki dla Test 1:\")\n",
        "for obj, pole in stats.items():\n",
        "    print(f\"  Obiekt {obj}: {pole} pikseli\")"
      ]
    },
    {
      "cell_type": "markdown",
      "metadata": {},
      "source": [
        "### 2. Filtrowanie małych obiektów"
      ]
    },
    {
      "cell_type": "code",
      "execution_count": 62,
      "metadata": {},
      "outputs": [],
      "source": [
        "def filtruj_male_obiekty(etykiety, min_pole):\n",
        "    \"\"\"Usuwa obiekty mniejsze niż min_pole pikseli.\"\"\"\n",
        "    # TODO: Znajdź obiekty mniejsze niż min_pole i ustaw ich etykiety na 0\n",
        "    etykiety_filtr = etykiety.copy()\n",
        "    for obj in np.unique(etykiety):\n",
        "        if obj > 0:\n",
        "            pole = np.sum(etykiety == obj)\n",
        "            if pole < min_pole:\n",
        "                etykiety_filtr[etykiety == obj] = 0\n",
        "    return etykiety_filtr\n",
        "\n",
        "# Test - usuń obiekty < 10 pikseli\n",
        "# etykiety_filtr = filtruj_male_obiekty(etykiety_t1, min_pole=10)\n",
        "# wyswietl_obrazy([etykiety_t1, etykiety_filtr], \n",
        "#                 ['Przed filtrowaniem', 'Po filtrowaniu'],\n",
        "#                 ['nipy_spectral', 'nipy_spectral'])"
      ]
    },
    {
      "cell_type": "markdown",
      "metadata": {},
      "source": [
        "### 3. Środek masy obiektów"
      ]
    },
    {
      "cell_type": "code",
      "execution_count": 63,
      "metadata": {},
      "outputs": [
        {
          "name": "stdout",
          "output_type": "stream",
          "text": [
            "Środki masy dla Test 1:\n",
            "  Obiekt 1: (3.5, 3.0)\n",
            "  Obiekt 2: (10.0, 7.0)\n"
          ]
        }
      ],
      "source": [
        "def srodek_masy(etykiety, liczba_obiektow):\n",
        "    \"\"\"Oblicza współrzędne środka masy każdego obiektu.\"\"\"\n",
        "    # TODO: Dla każdego obiektu oblicz średnią współrzędnych\n",
        "    srodki = {}\n",
        "    for obj in range(1, liczba_obiektow + 1):\n",
        "        y_coords, x_coords = np.where(etykiety == obj)\n",
        "        if len(y_coords) > 0:\n",
        "            srodki[obj] = (np.mean(x_coords), np.mean(y_coords))\n",
        "    return srodki\n",
        "\n",
        "# Test\n",
        "srodki = srodek_masy(etykiety_t1, liczba_t1)\n",
        "print(\"Środki masy dla Test 1:\")\n",
        "for obj, (x, y) in srodki.items():\n",
        "    print(f\"  Obiekt {obj}: ({x:.1f}, {y:.1f})\")"
      ]
    },
    {
      "cell_type": "markdown",
      "metadata": {},
      "source": [
        "### 4. Prostokątne obwiednie (bounding boxes)"
      ]
    },
    {
      "cell_type": "code",
      "execution_count": 64,
      "metadata": {},
      "outputs": [
        {
          "name": "stdout",
          "output_type": "stream",
          "text": [
            "Bounding boxes dla Test 1:\n",
            "  Obiekt 1: x=[2, 5], y=[2, 4]\n",
            "  Obiekt 2: x=[8, 12], y=[6, 8]\n"
          ]
        }
      ],
      "source": [
        "def bounding_boxes(etykiety, liczba_obiektow):\n",
        "    \"\"\"Znajduje prostokątne obwiednie dla każdego obiektu.\"\"\"\n",
        "    # TODO: Dla każdego obiektu znajdź min/max współrzędnych\n",
        "    boxes = {}\n",
        "    for obj in range(1, liczba_obiektow + 1):\n",
        "        y_coords, x_coords = np.where(etykiety == obj)\n",
        "        if len(y_coords) > 0:\n",
        "            boxes[obj] = {\n",
        "                'x_min': np.min(x_coords),\n",
        "                'x_max': np.max(x_coords),\n",
        "                'y_min': np.min(y_coords),\n",
        "                'y_max': np.max(y_coords)\n",
        "            }\n",
        "    return boxes\n",
        "\n",
        "# Test\n",
        "boxes = bounding_boxes(etykiety_t1, liczba_t1)\n",
        "print(\"Bounding boxes dla Test 1:\")\n",
        "for obj, box in boxes.items():\n",
        "    print(f\"  Obiekt {obj}: x=[{box['x_min']}, {box['x_max']}], y=[{box['y_min']}, {box['y_max']}]\")"
      ]
    },
    {
      "cell_type": "markdown",
      "metadata": {},
      "source": [
        "---\n",
        "**Koniec laboratorium 2**"
      ]
    }
  ],
  "metadata": {
    "kernelspec": {
      "display_name": "dip_venv",
      "language": "python",
      "name": "python3"
    },
    "language_info": {
      "codemirror_mode": {
        "name": "ipython",
        "version": 3
      },
      "file_extension": ".py",
      "mimetype": "text/x-python",
      "name": "python",
      "nbconvert_exporter": "python",
      "pygments_lexer": "ipython3",
      "version": "3.12.3"
    }
  },
  "nbformat": 4,
  "nbformat_minor": 4
}
