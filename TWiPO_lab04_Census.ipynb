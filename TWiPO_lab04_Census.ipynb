{
  "cells": [
    {
      "cell_type": "markdown",
      "metadata": {},
      "source": [
        "# Laboratorium 4: Transformata Census\n",
        "\n",
        "## 1. Teoria\n",
        "\n",
        "### Transformata Census\n",
        "\n",
        "Transformata Census to metoda reprezentacji lokalnych regionów obrazu w postaci ciągów binarnych. Jest wykorzystywana głównie do porównywania podobieństwa między fragmentami obrazów.\n",
        "\n",
        "**Zasada działania:**\n",
        "\n",
        "Dla każdego piksela w obrazie:\n",
        "1. Wybieramy okno o rozmiarze n×n (np. 3×3, 5×5) z pikselem centralnym\n",
        "2. Porównujemy wartość piksela centralnego z wartościami wszystkich sąsiednich pikseli w oknie\n",
        "3. Dla każdego sąsiada:\n",
        "   - Jeśli wartość sąsiada < wartość centralna → bit = 0\n",
        "   - Jeśli wartość sąsiada ≥ wartość centralna → bit = 1\n",
        "4. Otrzymany ciąg bitów tworzy reprezentację Census dla tego piksela\n",
        "\n",
        "**Przykład dla okna 3×3:**\n",
        "\n",
        "```\n",
        "Obraz wejściowy:        Porównanie z centrum (50):\n",
        "┌────────────┐          ┌────────────┐\n",
        "│ 45  60  30 │          │  0   1   0 │\n",
        "│ 55  50  40 │    →     │  1   X   0 │\n",
        "│ 70  35  65 │          │  1   0   1 │\n",
        "└────────────┘          └────────────┘\n",
        "\n",
        "Legenda: 0 = piksel < centrum\n",
        "         1 = piksel ≥ centrum\n",
        "```\n",
        "```\n",
        "Ciąg Census (czytany \"ślimakiem\" od lewego górnego rogu, zgodnie z ruchem wskazówek zegara):\n",
        "Kolejność: 45→60→30→40→65→70→55→35\n",
        "Wynik:      0  1  0  0  1  1  1  0  = 01001110 (78 w systemie dziesiętnym)\n",
        "\n",
        "Wizualizacja kolejności odczytu \"ślimakiem\":\n",
        "┌────────────┐\n",
        "│  1→ 2→ 3  │\n",
        "│        ↓  │\n",
        "│  8  X  4  │\n",
        "│  ↑     ↓  │\n",
        "│  7← 6← 5  │\n",
        "└────────────┘\n",
        "\n",
        "**Uwaga:** Odczyt \"ślimakiem\" (spiralny) umożliwia badanie niezmienniczości względem obrotów obrazu, w przeciwieństwie do odczytu wierszami.\n",
        "```\n",
        "\n",
        "### Odległość Hamminga\n",
        "\n",
        "Do porównywania dwóch reprezentacji Census używamy **odległości Hamminga** - liczby bitów, na których dwa ciągi binarne się różnią.\n",
        "\n",
        "**Przykład:**\n",
        "```\n",
        "Ciąg 1: 01001001\n",
        "Ciąg 2: 01101000\n",
        "        ___^__^_\n",
        "Odległość Hamminga = 2 (różnice na pozycjach 3 i 7)\n",
        "```\n",
        "\n",
        "**Zastosowania:**\n",
        "- Stereo vision (dopasowywanie punktów między obrazami)\n",
        "- Detekcja zmian w sekwencjach obrazów\n",
        "- Rozpoznawanie tekstur\n",
        "- Tracking obiektów"
      ]
    },
    {
      "cell_type": "markdown",
      "metadata": {},
      "source": [
        "## 2. Kod startowy\n",
        "\n",
        "### 2.1 Import bibliotek"
      ]
    },
    {
      "cell_type": "code",
      "execution_count": 26,
      "metadata": {},
      "outputs": [],
      "source": [
        "import numpy as np\n",
        "import matplotlib.pyplot as plt\n",
        "from PIL import Image\n",
        "from urllib.request import urlopen\n",
        "\n",
        "# Konfiguracja wyświetlania\n",
        "plt.rcParams['figure.figsize'] = (12, 8)\n",
        "plt.rcParams['image.cmap'] = 'gray'"
      ]
    },
    {
      "cell_type": "markdown",
      "metadata": {},
      "source": [
        "### 2.2 Funkcje pomocnicze"
      ]
    },
    {
      "cell_type": "code",
      "execution_count": null,
      "metadata": {},
      "outputs": [],
      "source": [
        "def rgb_to_gray(image):\n",
        "    \"\"\"\n",
        "    Konwertuje obraz RGB do skali szarości.\n",
        "    \n",
        "    Parametry:\n",
        "    image (numpy.ndarray): Obraz RGB\n",
        "    \n",
        "    Zwraca:\n",
        "    numpy.ndarray: Obraz w skali szarości\n",
        "    \"\"\"\n",
        "    if len(image.shape) == 3:\n",
        "        # Wzór: Y = 0.299*R + 0.587*G + 0.114*B\n",
        "        return np.dot(image[...,:3], [0.299, 0.587, 0.114]).astype(np.uint8)\n",
        "    return image\n",
        "\n",
        "\n",
        "def show_images(images, titles=None, imgsize = 5, cmap='gray'):\n",
        "    \"\"\"\n",
        "    Wyświetla wiele obrazów obok siebie.\n",
        "    \n",
        "    Parametry:\n",
        "    images (list): Lista obrazów do wyświetlenia\n",
        "    titles (list): Lista tytułów dla każdego obrazu\n",
        "    cmap (str): Mapa kolorów (domyślnie 'gray')\n",
        "    figsize (tuple): Rozmiar figury\n",
        "    \"\"\"\n",
        "\n",
        "    n = len(images)\n",
        "    fig, axes = plt.subplots(1, n, figsize=(imgsize*n, imgsize))\n",
        "    if n == 1:\n",
        "        axes = [axes]\n",
        "    for i, (img, ax) in enumerate(zip(images, axes)):\n",
        "        ax.imshow(img, cmap=cmap)\n",
        "        ax.axis('off')\n",
        "        if titles:\n",
        "            ax.set_title(titles[i])\n",
        "    plt.tight_layout()\n",
        "    plt.show()"
      ]
    },
    {
      "cell_type": "markdown",
      "metadata": {},
      "source": [
        "### 2.3 Wczytanie obrazu testowego"
      ]
    },
    {
      "cell_type": "code",
      "execution_count": null,
      "metadata": {},
      "outputs": [],
      "source": [
        "# Wczytanie obrazu testowego z GitHub\n",
        "url_lenna = 'https://raw.githubusercontent.com/kbor89/TWiPO/main/images/lenna.png'\n",
        "\n",
        "# Wczytanie obrazu z URL\n",
        "img_lenna = np.array(Image.open(urlopen(url_lenna)))\n",
        "\n",
        "# Konwersja do skali szarości\n",
        "img_lenna_gray = rgb_to_gray(img_lenna).astype(np.uint8)\n",
        "\n",
        "# Zmniejszenie obrazu do 100x100\n",
        "img_lenna_gray = np.array(Image.fromarray(img_lenna_gray).resize((100, 100), Image.LANCZOS))\n",
        "\n",
        "\n",
        "print(f\"Rozmiar obrazu Lenna: {img_lenna_gray.shape}\")\n",
        "print(f\"Typ danych: {img_lenna_gray.dtype}\")\n",
        "print(f\"Zakres wartości: [{img_lenna_gray.min()}, {img_lenna_gray.max()}]\")\n",
        "\n",
        "show_images([img_lenna_gray], ['Lenna (skala szarości)'], 7)"
      ]
    },
    {
      "cell_type": "markdown",
      "metadata": {},
      "source": [
        "### 2.4 Generowanie obrazów testowych"
      ]
    },
    {
      "cell_type": "code",
      "execution_count": null,
      "metadata": {},
      "outputs": [],
      "source": [
        "# Tworzenie przykładowych obrazów testowych\n",
        "def create_test_images():\n",
        "    # Obraz 1: Gradient\n",
        "    img1 = np.linspace(0, 255, 100*100).reshape(100, 100).astype(np.uint8)\n",
        "    \n",
        "    # Obraz 2: Szachownica\n",
        "    img2 = np.zeros((100, 100), dtype=np.uint8)\n",
        "    img2[::20, ::20] = 255\n",
        "    img2[10::20, 10::20] = 255\n",
        "    \n",
        "    # Obraz 3: Prosty wzór\n",
        "    img3 = np.ones((100, 100), dtype=np.uint8) * 128\n",
        "    img3[30:70, 30:70] = 200\n",
        "    img3[45:55, 45:55] = 50\n",
        "    \n",
        "    return img1, img2, img3\n",
        "\n",
        "test_img1, test_img2, test_img3 = create_test_images()\n",
        "show_images([test_img1, test_img2, test_img3], \n",
        "            ['Gradient', 'Szachownica', 'Wzór'])"
      ]
    },
    {
      "cell_type": "markdown",
      "metadata": {},
      "source": [
        "## 3. Zadania do wykonania"
      ]
    },
    {
      "cell_type": "markdown",
      "metadata": {},
      "source": [
        "### Zadanie 1: Implementacja transformaty Census dla pojedynczego piksela\n",
        "\n",
        "Zaimplementuj funkcję `census_pixel`, która dla danego piksela (x, y) oblicza jego reprezentację Census.\n",
        "\n",
        "**Parametry:**\n",
        "- `image`: obraz wejściowy (numpy array)\n",
        "- `x, y`: współrzędne piksela centralnego\n",
        "- `window_size`: rozmiar okna (domyślnie 3)\n",
        "\n",
        "**Zwraca:**\n",
        "- Liczbę całkowitą reprezentującą ciąg bitów Census"
      ]
    },
    {
      "cell_type": "code",
      "execution_count": null,
      "metadata": {},
      "outputs": [],
      "source": [
        "def census_pixel(image, x, y, window_size=3):\n",
        "    # TODO: Zaimplementuj obliczanie transformaty Census dla pojedynczego piksela\n",
        "    # 1. Oblicz promień okna: radius = window_size // 2\n",
        "    # 2. Pobierz wartość piksela centralnego\n",
        "    # 3. Zainicjuj census_value = 0\n",
        "    # 4. Dla każdego sąsiada w oknie:\n",
        "    #    - Przesuń census_value o 1 bit w lewo\n",
        "    #    - Jeśli sąsiad >= centrum, dodaj 1 (census_value |= 1)\n",
        "    # 5. Zwróć census_value\n",
        "\n",
        "    pass"
      ]
    },
    {
      "cell_type": "markdown",
      "metadata": {},
      "source": [
        "### Test 1: Transformata Census dla pojedynczego piksela"
      ]
    },
    {
      "cell_type": "code",
      "execution_count": null,
      "metadata": {},
      "outputs": [],
      "source": [
        "# Test na prostym przykładzie\n",
        "test_array = np.array([\n",
        "    [45, 60, 30],\n",
        "    [55, 50, 40],\n",
        "    [70, 35, 65]\n",
        "], dtype=np.uint8)\n",
        "\n",
        "result = census_pixel(test_array, 1, 1, window_size=3)\n",
        "print(f\"Wartość Census dla piksela centralnego: {result}\")\n",
        "print(f\"Reprezentacja binarna: {bin(result)}\")\n",
        "print(f\"Oczekiwana wartość (iteracja po ślimaku): 0b01001011 (75 w systemie dziesiętnym)\")\n",
        "print(f\"Oczekiwana wartość (iteracha po wierszacg): 0b01010101 (85 w systemie dziesiętnym)\")"
      ]
    },
    {
      "cell_type": "markdown",
      "metadata": {},
      "source": [
        "### Zadanie 2: Transformata Census dla całego obrazu\n",
        "\n",
        "Zaimplementuj funkcję `census_transform`, która oblicza transformatę Census dla wszystkich pikseli obrazu.\n",
        "\n",
        "**Parametry:**\n",
        "- `image`: obraz wejściowy\n",
        "- `window_size`: rozmiar okna\n",
        "\n",
        "**Zwraca:**\n",
        "- Macierz z wartościami Census (typ: np.uint64 lub np.int64)\n",
        "\n",
        "**Uwaga:** Piksele na brzegach obrazu można pominąć (wypełnić zerami)."
      ]
    },
    {
      "cell_type": "code",
      "execution_count": null,
      "metadata": {},
      "outputs": [],
      "source": [
        "def census_transform(image, window_size=3):\n",
        "    # TODO: Zaimplementuj transformatę Census dla całego obrazu\n",
        "    # 1. Utwórz macierz wynikową wypełnioną zerami (dtype=np.uint64)\n",
        "    # 2. Oblicz promień okna\n",
        "    # 3. Dla każdego piksela (z pominięciem brzegów):\n",
        "    #    - Wywołaj census_pixel i zapisz wynik\n",
        "    # 4. Zwróć macierz wynikową\n",
        "    \n",
        "    pass"
      ]
    },
    {
      "cell_type": "markdown",
      "metadata": {},
      "source": [
        "### Test 2: Transformata Census dla całego obrazu"
      ]
    },
    {
      "cell_type": "code",
      "execution_count": null,
      "metadata": {},
      "outputs": [],
      "source": [
        "# Test na obrazie testowym\n",
        "census_result = census_transform(test_img3, window_size=3)\n",
        "\n",
        "print(f\"Kształt obrazu wejściowego: {test_img3.shape}\")\n",
        "print(f\"Kształt wyniku Census: {census_result.shape}\")\n",
        "print(f\"Typ danych: {census_result.dtype}\")\n",
        "print(f\"Przykładowe wartości Census (fragment obrazu):\")\n",
        "print(census_result[28:33, 28:33])"
      ]
    },
    {
      "cell_type": "markdown",
      "metadata": {},
      "source": [
        "### Zadanie 3: Odległość Hamminga\n",
        "\n",
        "Zaimplementuj funkcję `hamming_distance`, która oblicza odległość Hamminga między dwoma liczbami całkowitymi.\n",
        "\n",
        "**Parametry:**\n",
        "- `a, b`: dwie liczby całkowite (reprezentacje Census)\n",
        "\n",
        "**Zwraca:**\n",
        "- Liczbę różniących się bitów\n",
        "\n",
        "**Wskazówka:** Użyj operacji XOR (^) i policz bity równe 1."
      ]
    },
    {
      "cell_type": "code",
      "execution_count": null,
      "metadata": {},
      "outputs": [],
      "source": [
        "def hamming_distance(a, b):\n",
        "    # TODO: Zaimplementuj obliczanie odległości Hamminga\n",
        "    # 1. Wykonaj XOR: xor_result = a ^ b\n",
        "    # 2. Policz liczbę bitów równych 1 w xor_result\n",
        "    #    Można użyć bin(xor_result).count('1')\n",
        "    #    lub pętli z operacją & 1 i przesunięciem >>\n",
        "    # 3. Zwróć liczbę różniących się bitów\n",
        "    \n",
        "    pass"
      ]
    },
    {
      "cell_type": "markdown",
      "metadata": {},
      "source": [
        "### Test 3: Odległość Hamminga"
      ]
    },
    {
      "cell_type": "code",
      "execution_count": null,
      "metadata": {},
      "outputs": [],
      "source": [
        "# Test odległości Hamminga\n",
        "a = 0b01001001  # 73\n",
        "b = 0b01101000  # 104\n",
        "\n",
        "dist = hamming_distance(a, b)\n",
        "print(f\"Ciąg 1: {bin(a)}\")\n",
        "print(f\"Ciąg 2: {bin(b)}\")\n",
        "print(f\"Odległość Hamminga: {dist}\")\n",
        "print(f\"Oczekiwana wartość: 2\")\n",
        "\n",
        "# Dodatkowe testy\n",
        "assert hamming_distance(0, 0) == 0, \"Identyczne ciągi powinny mieć odległość 0\"\n",
        "assert hamming_distance(0b1111, 0b0000) == 4, \"Całkowicie różne 4-bitowe ciągi\"\n",
        "assert hamming_distance(0b1010, 0b0101) == 4, \"Odwrócone bity\"\n",
        "print(\"\\nWszystkie testy odległości Hamminga przeszły pomyślnie!\")"
      ]
    },
    {
      "cell_type": "markdown",
      "metadata": {},
      "source": [
        "### Zadanie 4: Mapa podobieństwa między dwoma obrazami\n",
        "\n",
        "Zaimplementuj funkcję `census_similarity_map`, która tworzy mapę podobieństwa między dwoma obrazami na podstawie ich transformaty Census.\n",
        "\n",
        "**Parametry:**\n",
        "- `image1, image2`: dwa obrazy do porównania\n",
        "- `window_size`: rozmiar okna dla transformaty Census\n",
        "\n",
        "**Zwraca:**\n",
        "- Macierz z odległościami Hamminga dla każdego piksela\n",
        "\n",
        "**Uwaga:** Mniejsza wartość = większe podobieństwo"
      ]
    },
    {
      "cell_type": "code",
      "execution_count": null,
      "metadata": {},
      "outputs": [],
      "source": [
        "def census_similarity_map(image1, image2, window_size=3):\n",
        "    # TODO: Zaimplementuj mapę podobieństwa\n",
        "    # 1. Oblicz transformatę Census dla obu obrazów\n",
        "    # 2. Utwórz macierz wynikową\n",
        "    # 3. Dla każdego piksela oblicz odległość Hamminga\n",
        "    #    między odpowiadającymi sobie wartościami Census\n",
        "    # 4. Zwróć macierz odległości\n",
        "    \n",
        "    pass"
      ]
    },
    {
      "cell_type": "markdown",
      "metadata": {},
      "source": [
        "### Test 4: Mapa podobieństwa"
      ]
    },
    {
      "cell_type": "code",
      "execution_count": null,
      "metadata": {},
      "outputs": [],
      "source": [
        "# Porównanie obrazu z samym sobą (powinno dać same zera)\n",
        "similarity_self = census_similarity_map(test_img1, test_img1, window_size=3)\n",
        "\n",
        "print(f\"Mapa podobieństwa obrazu z samym sobą:\")\n",
        "print(f\"Min: {similarity_self.min()}, Max: {similarity_self.max()}\")\n",
        "print(f\"Suma niezerowych wartości: {np.sum(similarity_self > 0)}\")\n",
        "print(f\"Oczekiwane: wszystkie wartości powinny być 0\")\n",
        "\n",
        "plt.figure(figsize=(6, 6))\n",
        "plt.imshow(similarity_self, cmap='hot')\n",
        "plt.colorbar(label='Odległość Hamminga')\n",
        "plt.title('Mapa podobieństwa (obraz vs sam siebie)')\n",
        "plt.show()"
      ]
    },
    {
      "cell_type": "code",
      "execution_count": null,
      "metadata": {},
      "outputs": [],
      "source": [
        "# Porównanie dwóch różnych obrazów\n",
        "similarity_diff = census_similarity_map(test_img1, test_img2, window_size=3)\n",
        "\n",
        "print(f\"Mapa podobieństwa między różnymi obrazami:\")\n",
        "print(f\"Min: {similarity_diff.min()}, Max: {similarity_diff.max()}\")\n",
        "print(f\"Średnia odległość: {similarity_diff.mean():.2f}\")\n",
        "\n",
        "fig, axes = plt.subplots(1, 3, figsize=(15, 5))\n",
        "axes[0].imshow(test_img1, cmap='gray')\n",
        "axes[0].set_title('Obraz 1')\n",
        "axes[0].axis('off')\n",
        "\n",
        "axes[1].imshow(test_img2, cmap='gray')\n",
        "axes[1].set_title('Obraz 2')\n",
        "axes[1].axis('off')\n",
        "\n",
        "im = axes[2].imshow(similarity_diff, cmap='hot')\n",
        "axes[2].set_title('Mapa podobieństwa')\n",
        "axes[2].axis('off')\n",
        "plt.colorbar(im, ax=axes[2], label='Odległość Hamminga')\n",
        "\n",
        "plt.tight_layout()\n",
        "plt.show()"
      ]
    },
    {
      "cell_type": "markdown",
      "metadata": {},
      "source": [
        "### Zadanie 5: Wyszukiwanie wzorca na obrazie\n",
        "\n",
        "Zaimplementuj funkcję `find_pattern`, która wyszukuje podany wzorzec (template) na obrazie przy użyciu transformaty Census.\n",
        "\n",
        "**Parametry:**\n",
        "- `image`: obraz, w którym szukamy wzorca\n",
        "- `template`: wzorzec do znalezienia\n",
        "- `window_size`: rozmiar okna dla transformaty Census\n",
        "- `threshold`: maksymalna dopuszczalna odległość Hamminga (domyślnie 20)\n",
        "\n",
        "**Zwraca:**\n",
        "- Lista krotek (x, y, score) z pozycjami i wynikami dopasowania, gdzie score to średnia odległość Hamminga\n",
        "\n",
        "**Wskazówka:** \n",
        "1. Oblicz transformatę Census dla obrazu i wzorca\n",
        "2. Przesuń wzorzec po całym obrazie (sliding window)\n",
        "3. Dla każdej pozycji oblicz średnią odległość Hamminga między wzorcem a fragmentem obrazu\n",
        "4. Zwróć pozycje, gdzie odległość < threshold"
      ]
    },
    {
      "cell_type": "code",
      "execution_count": null,
      "metadata": {},
      "outputs": [],
      "source": [
        "def find_pattern(image, template, window_size=3, threshold=20):\n",
        "    # TODO: Zaimplementuj wyszukiwanie wzorca\n",
        "    # 1. Oblicz transformatę Census dla obrazu i wzorca\n",
        "    # 2. Pobierz wymiary wzorca\n",
        "    # 3. Utwórz listę na wyniki: matches = []\n",
        "    # 4. Dla każdej możliwej pozycji (x, y) w obrazie:\n",
        "    #    a) Wytnij fragment obrazu o rozmiarze wzorca\n",
        "    #    b) Oblicz średnią odległość Hamminga między fragmentem a wzorcem\n",
        "    #    c) Jeśli średnia < threshold, dodaj (x, y, średnia) do matches\n",
        "    # 5. Posortuj matches według score (rosnąco)\n",
        "    # 6. Zwróć matches\n",
        "    \n",
        "    pass"
      ]
    },
    {
      "cell_type": "markdown",
      "metadata": {},
      "source": [
        "### Test 5: Wyszukiwanie wzorca"
      ]
    },
    {
      "cell_type": "code",
      "execution_count": null,
      "metadata": {},
      "outputs": [],
      "source": [
        "# Stwórz obraz z ukrytym wzorcem\n",
        "base_image = np.random.randint(50, 200, (100, 100), dtype=np.uint8)\n",
        "\n",
        "# Stwórz charakterystyczny wzorzec\n",
        "pattern = np.array([\n",
        "    [100, 150, 100],\n",
        "    [150, 130, 150],\n",
        "    [100, 120, 160]\n",
        "], dtype=np.uint8)\n",
        "\n",
        "# Powiększ wzorzec dla lepszej widoczności\n",
        "#pattern = np.kron(pattern, np.ones((3, 3), dtype=np.uint8))\n",
        "\n",
        "# Umieść wzorzec w kilku miejscach obrazu\n",
        "positions = [(30, 40), (80, 90), (70, 20)]\n",
        "for px, py in positions:\n",
        "    ph, pw = pattern.shape\n",
        "    base_image[py-1:py+ph-1, px-1:px+pw-1] = pattern\n",
        "\n",
        "print(f\"Rozmiar obrazu: {base_image.shape}\")\n",
        "print(f\"Rozmiar wzorca: {pattern.shape}\")\n",
        "print(f\"Umieszczono wzorzec w pozycjach: {positions}\")\n",
        "\n",
        "# Wyszukaj wzorzec\n",
        "matches = find_pattern(base_image, pattern, window_size=3, threshold=0)\n",
        "\n",
        "print(f\"\\nZnaleziono {len(matches)} dopasowań:\")\n",
        "for i, (x, y, score) in enumerate(matches[:15]):  # Pokaż top 15\n",
        "    print(f\"  {i+1}. Pozycja: ({x}, {y}), Score: {score:.2f}\")\n",
        "show_images([pattern, base_image])\n"
      ]
    },
    {
      "cell_type": "code",
      "execution_count": null,
      "metadata": {},
      "outputs": [],
      "source": [
        "# Wizualizacja wyników wyszukiwania\n",
        "fig, axes = plt.subplots(1, 3, figsize=(15, 5))\n",
        "\n",
        "# Obraz oryginalny\n",
        "axes[0].imshow(base_image, cmap='gray')\n",
        "axes[0].set_title('Obraz wejściowy')\n",
        "axes[0].axis('off')\n",
        "\n",
        "# Wzorzec\n",
        "axes[1].imshow(pattern, cmap='gray')\n",
        "axes[1].set_title('Szukany wzorzec')\n",
        "axes[1].axis('off')\n",
        "\n",
        "# Wyniki z zaznaczonymi dopasowaniami\n",
        "axes[2].imshow(base_image, cmap='gray')\n",
        "ph, pw = pattern.shape\n",
        "\n",
        "# Zaznacz znalezione dopasowania\n",
        "for i, (x, y, score) in enumerate(matches[:10]):  # Pokaż top 10\n",
        "    rect = plt.Rectangle((x, y), pw, ph, \n",
        "                         fill=False, \n",
        "                         edgecolor='red' if i < 3 else 'yellow',\n",
        "                         linewidth=2 if i < 3 else 1)\n",
        "    axes[2].add_patch(rect)\n",
        "    axes[2].text(x, y-2, f'{score:.1f}', \n",
        "                color='red' if i < 3 else 'yellow',\n",
        "                fontsize=8, fontweight='bold')\n",
        "\n",
        "axes[2].set_title(f'Znalezione dopasowania (top {min(10, len(matches))})')\n",
        "axes[2].axis('off')\n",
        "\n",
        "plt.tight_layout()\n",
        "plt.show()"
      ]
    },
    {
      "cell_type": "markdown",
      "metadata": {},
      "source": [
        "## 4. Testy i przykłady zastosowań"
      ]
    },
    {
      "cell_type": "markdown",
      "metadata": {},
      "source": [
        "### Test 4: Mapa podobieństwa"
      ]
    },
    {
      "cell_type": "markdown",
      "metadata": {},
      "source": [
        "### Przykład zastosowania: Detekcja zmian"
      ]
    },
    {
      "cell_type": "code",
      "execution_count": null,
      "metadata": {},
      "outputs": [],
      "source": [
        "# Stwórz dwa podobne obrazy z małą różnicą\n",
        "img_a = test_img3.copy()\n",
        "img_b = test_img3.copy()\n",
        "img_b[60:80, 60:80] = 255  # Dodaj jasny kwadrat\n",
        "\n",
        "# Oblicz mapę podobieństwa\n",
        "change_map = census_similarity_map(img_a, img_b, window_size=5)\n",
        "\n",
        "# Wizualizacja\n",
        "fig, axes = plt.subplots(1, 3, figsize=(15, 5))\n",
        "axes[0].imshow(img_a, cmap='gray')\n",
        "axes[0].set_title('Obraz A')\n",
        "axes[0].axis('off')\n",
        "\n",
        "axes[1].imshow(img_b, cmap='gray')\n",
        "axes[1].set_title('Obraz B (ze zmianą)')\n",
        "axes[1].axis('off')\n",
        "\n",
        "im = axes[2].imshow(change_map, cmap='hot')\n",
        "axes[2].set_title('Mapa zmian (Census)')\n",
        "axes[2].axis('off')\n",
        "plt.colorbar(im, ax=axes[2], label='Odległość Hamminga')\n",
        "\n",
        "plt.tight_layout()\n",
        "plt.show()\n",
        "\n",
        "print(f\"Obszary z dużą zmianą (odległość > 5): {np.sum(change_map > 5)} pikseli\")"
      ]
    },
    {
      "cell_type": "markdown",
      "metadata": {},
      "source": [
        "### Przykład zastosowania: Wyszukiwanie logo na zdjęciu"
      ]
    },
    {
      "cell_type": "code",
      "execution_count": null,
      "metadata": {},
      "outputs": [],
      "source": [
        "# Stwórz obraz z \"logo\"\n",
        "large_image = np.random.randint(80, 180, (200, 200), dtype=np.uint8)\n",
        "\n",
        "# Proste \"logo\" - krzyżyk\n",
        "logo = np.ones((7, 7), dtype=np.uint8) * 120\n",
        "logo[2:5, :] = 200  # Pozioma linia\n",
        "logo[:, 2:5] = 200  # Pionowa linia\n",
        "\n",
        "# Umieść logo w różnych miejscach z różnymi jasnościami\n",
        "logo_positions = [\n",
        "    (50, 60, 1.0),   # Oryginalna jasność\n",
        "    (150, 30, 0.9),  # Ciemniejsze\n",
        "    (100, 150, 0.8), # Jaśniejsze\n",
        "]\n",
        "\n",
        "for px, py, brightness in logo_positions:\n",
        "    modified_logo = np.clip(logo * brightness, 0, 255).astype(np.uint8)\n",
        "    lh, lw = logo.shape\n",
        "    large_image[py:py+lh, px:px+lw] = modified_logo\n",
        "\n",
        "# Wyszukaj logo\n",
        "logo_matches = find_pattern(large_image, logo, window_size=7, threshold=10)\n",
        "\n",
        "print(f\"Znaleziono {len(logo_matches)} wystąpień logo\")\n",
        "print(f\"Oczekiwano: {len(logo_positions)} wystąpień\")\n",
        "\n",
        "# Wizualizacja\n",
        "fig, axes = plt.subplots(1, 2, figsize=(12, 6))\n",
        "\n",
        "axes[0].imshow(logo, cmap='gray')\n",
        "axes[0].set_title('Logo (wzorzec)')\n",
        "axes[0].axis('off')\n",
        "\n",
        "axes[1].imshow(large_image, cmap='gray')\n",
        "lh, lw = logo.shape\n",
        "\n",
        "for x, y, score in logo_matches[:5]:\n",
        "    rect = plt.Rectangle((x, y), lw, lh, \n",
        "                         fill=False, edgecolor='lime', linewidth=2)\n",
        "    axes[1].add_patch(rect)\n",
        "    axes[1].text(x+lw+2, y+lh//2, f'{score:.1f}', \n",
        "                color='lime', fontsize=10, fontweight='bold')\n",
        "\n",
        "axes[1].set_title(f'Znalezione logo (threshold=10)')\n",
        "axes[1].axis('off')\n",
        "\n",
        "plt.tight_layout()\n",
        "plt.show()\n",
        "\n",
        "print(\"\\nTransformata Census jest odporna na zmiany jasności!\")\n",
        "print(\"Wszystkie wystąpienia logo zostały znalezione mimo różnej jasności.\")"
      ]
    },
    {
      "cell_type": "markdown",
      "metadata": {},
      "source": [
        "## Podsumowanie\n",
        "\n",
        "W tym laboratorium zaimplementowaliśmy:\n",
        "1. Transformatę Census dla pojedynczego piksela i całego obrazu\n",
        "2. Odległość Hamminga do porównywania reprezentacji Census\n",
        "3. Mapę podobieństwa między obrazami\n",
        "\n",
        "Transformata Census jest efektywną metodą porównywania lokalnych struktur obrazu, odporną na zmiany oświetlenia."
      ]
    }
  ],
  "metadata": {
    "kernelspec": {
      "display_name": "dip_venv",
      "language": "python",
      "name": "python3"
    },
    "language_info": {
      "codemirror_mode": {
        "name": "ipython",
        "version": 3
      },
      "file_extension": ".py",
      "mimetype": "text/x-python",
      "name": "python",
      "nbconvert_exporter": "python",
      "pygments_lexer": "ipython3",
      "version": "3.12.3"
    }
  },
  "nbformat": 4,
  "nbformat_minor": 4
}
